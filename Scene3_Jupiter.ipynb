{
 "cells": [
  {
   "cell_type": "code",
   "execution_count": 1,
   "metadata": {},
   "outputs": [],
   "source": [
    "from PIL import Image, ImageFilter\n",
    "import os\n",
    "from matplotlib import pyplot as plt\n",
    "import cv2\n",
    "import numpy as np\n",
    "from rembg import remove\n",
    "import halftone\n",
    "# from wand.image import Image"
   ]
  },
  {
   "cell_type": "markdown",
   "metadata": {},
   "source": [
    "研究半色调"
   ]
  },
  {
   "cell_type": "code",
   "execution_count": 2,
   "metadata": {},
   "outputs": [],
   "source": [
    "from typing import Tuple, Union, Callable\n",
    "\n",
    "import numpy as np\n",
    "import PIL.Image\n",
    "\n",
    "ImgType = Union[PIL.Image.Image, np.ndarray]\n",
    "\n",
    "\n",
    "def halftone(img: ImgType, spot_fn: Callable[[int, int], float],RGB=0) -> ImgType:\n",
    "    is_pil = isinstance(img, PIL.Image.Image)\n",
    "    if is_pil:\n",
    "        img = array_from_pil(img)\n",
    "        print(img.shape)\n",
    "    halftoned = img[:,:,RGB] > evaluate_2d_func(img.shape, spot_fn)\n",
    "    if is_pil:\n",
    "        halftoned = pil_from_array(halftoned)\n",
    "    return halftoned\n",
    "\n",
    "\n",
    "def euclid_dot(spacing: float, angle: float = 0,channel: int = 3):\n",
    "    \"\"\"Circular dot changing to square at 50% grey.\"\"\"\n",
    "    pixel_divisor = 2.0 / spacing\n",
    "\n",
    "    def fn(x: int, y: int,z : int):\n",
    "        x, y = rotate(x * pixel_divisor, y * pixel_divisor, angle)\n",
    "        # to make an ellipse multiply sin/cos\n",
    "        # arguments with different multipliers\n",
    "        return (0.5 - (0.25 * (\n",
    "                np.sin(np.pi * (x + 0.5)) +\n",
    "                np.cos(np.pi * y))))\n",
    "\n",
    "    return fn\n",
    "\n",
    "def evaluate_2d_func(img_shape, fn):\n",
    "    w, h , channel = img_shape\n",
    "    xaxis = np.arange(w)\n",
    "    yaxis = np.arange(h)\n",
    "    return fn(xaxis[:, None], yaxis[None, :],channel)\n",
    "\n",
    "\n",
    "def rotate(x: float, y: float, angle: float) -> Tuple[float, float]:\n",
    "    \"\"\"\n",
    "    Rotate coordinates (x, y) by given angle.\n",
    "\n",
    "    angle: Rotation angle in degrees\n",
    "    \"\"\"\n",
    "    angle_rad = angle / 360 * 2 * np.pi\n",
    "    sin, cos = np.sin(angle_rad), np.cos(angle_rad)\n",
    "    return x * cos - y * sin, x * sin + y * cos\n",
    "\n",
    "\n",
    "def transform_grid(spacing, angle):\n",
    "    def fn(x, y):\n",
    "        x, y = rotate(x, y, angle)\n",
    "        coords = np.array([x, y])\n",
    "        coords = coords / spacing\n",
    "        coords = coords % 1\n",
    "        return coords\n",
    "\n",
    "    return fn\n",
    "\n",
    "\n",
    "def pil_from_array(arr):\n",
    "    return PIL.Image.fromarray((arr * 255).astype('uint8'))\n",
    "\n",
    "\n",
    "def array_from_pil(img):\n",
    "    return np.array(img) / 255\n",
    "\n",
    "\n",
    "spot_functions = {\n",
    "    'euclid': euclid_dot,\n",
    "}\n"
   ]
  },
  {
   "cell_type": "code",
   "execution_count": 4,
   "metadata": {},
   "outputs": [
    {
     "ename": "FileNotFoundError",
     "evalue": "[Errno 2] No such file or directory: 'D:\\\\Download_In_D\\\\3D_Python\\\\Scene2\\\\Source\\\\MainStruture\\\\725-eglise-abbatiale-saint-jouin-st-jouin-de-marnes.jpg'",
     "output_type": "error",
     "traceback": [
      "\u001b[1;31m---------------------------------------------------------------------------\u001b[0m",
      "\u001b[1;31mFileNotFoundError\u001b[0m                         Traceback (most recent call last)",
      "Cell \u001b[1;32mIn[4], line 4\u001b[0m\n\u001b[0;32m      1\u001b[0m img_path\u001b[38;5;241m=\u001b[39m \u001b[38;5;124m\"\u001b[39m\u001b[38;5;124mD:\u001b[39m\u001b[38;5;130;01m\\\\\u001b[39;00m\u001b[38;5;124mDownload_In_D\u001b[39m\u001b[38;5;130;01m\\\\\u001b[39;00m\u001b[38;5;124m3D_Python\u001b[39m\u001b[38;5;130;01m\\\\\u001b[39;00m\u001b[38;5;124mScene2\u001b[39m\u001b[38;5;130;01m\\\\\u001b[39;00m\u001b[38;5;124mSource\u001b[39m\u001b[38;5;130;01m\\\\\u001b[39;00m\u001b[38;5;124mMainStruture\u001b[39m\u001b[38;5;130;01m\\\\\u001b[39;00m\u001b[38;5;124m725-eglise-abbatiale-saint-jouin-st-jouin-de-marnes.jpg\u001b[39m\u001b[38;5;124m\"\u001b[39m\n\u001b[0;32m      2\u001b[0m img_png_path \u001b[38;5;241m=\u001b[39m \u001b[38;5;124m\"\u001b[39m\u001b[38;5;124mD:\u001b[39m\u001b[38;5;130;01m\\\\\u001b[39;00m\u001b[38;5;124mDownload_In_D\u001b[39m\u001b[38;5;130;01m\\\\\u001b[39;00m\u001b[38;5;124m3D_Python\u001b[39m\u001b[38;5;130;01m\\\\\u001b[39;00m\u001b[38;5;124mScene2\u001b[39m\u001b[38;5;130;01m\\\\\u001b[39;00m\u001b[38;5;124mScene2_Completed.png\u001b[39m\u001b[38;5;124m\"\u001b[39m\n\u001b[1;32m----> 4\u001b[0m img \u001b[38;5;241m=\u001b[39m \u001b[43mImage\u001b[49m\u001b[38;5;241;43m.\u001b[39;49m\u001b[43mopen\u001b[49m\u001b[43m(\u001b[49m\u001b[43mimg_path\u001b[49m\u001b[43m)\u001b[49m\n\u001b[0;32m      6\u001b[0m halftoned \u001b[38;5;241m=\u001b[39m halftone(img, euclid_dot(spacing\u001b[38;5;241m=\u001b[39m\u001b[38;5;241m30\u001b[39m, angle\u001b[38;5;241m=\u001b[39m\u001b[38;5;241m10\u001b[39m),\u001b[38;5;241m0\u001b[39m)\n\u001b[0;32m      8\u001b[0m halftoned\u001b[38;5;241m.\u001b[39mshow()\n",
      "File \u001b[1;32mc:\\Users\\wc2le\\AppData\\Local\\Programs\\Python\\Python310\\lib\\site-packages\\PIL\\Image.py:3247\u001b[0m, in \u001b[0;36mopen\u001b[1;34m(fp, mode, formats)\u001b[0m\n\u001b[0;32m   3244\u001b[0m     filename \u001b[38;5;241m=\u001b[39m fp\n\u001b[0;32m   3246\u001b[0m \u001b[38;5;28;01mif\u001b[39;00m filename:\n\u001b[1;32m-> 3247\u001b[0m     fp \u001b[38;5;241m=\u001b[39m \u001b[43mbuiltins\u001b[49m\u001b[38;5;241;43m.\u001b[39;49m\u001b[43mopen\u001b[49m\u001b[43m(\u001b[49m\u001b[43mfilename\u001b[49m\u001b[43m,\u001b[49m\u001b[43m \u001b[49m\u001b[38;5;124;43m\"\u001b[39;49m\u001b[38;5;124;43mrb\u001b[39;49m\u001b[38;5;124;43m\"\u001b[39;49m\u001b[43m)\u001b[49m\n\u001b[0;32m   3248\u001b[0m     exclusive_fp \u001b[38;5;241m=\u001b[39m \u001b[38;5;28;01mTrue\u001b[39;00m\n\u001b[0;32m   3250\u001b[0m \u001b[38;5;28;01mtry\u001b[39;00m:\n",
      "\u001b[1;31mFileNotFoundError\u001b[0m: [Errno 2] No such file or directory: 'D:\\\\Download_In_D\\\\3D_Python\\\\Scene2\\\\Source\\\\MainStruture\\\\725-eglise-abbatiale-saint-jouin-st-jouin-de-marnes.jpg'"
     ]
    }
   ],
   "source": [
    "img_path= \"D:\\\\Download_In_D\\\\3D_Python\\\\Scene2\\\\Source\\\\MainStruture\\\\725-eglise-abbatiale-saint-jouin-st-jouin-de-marnes.jpg\"\n",
    "img_png_path = \"D:\\\\Download_In_D\\\\3D_Python\\\\Scene2\\\\Scene2_Completed.png\"\n",
    "\n",
    "img = Image.open(img_path)\n",
    "\n",
    "halftoned = halftone(img, euclid_dot(spacing=30, angle=10),0)\n",
    "\n",
    "halftoned.show()\n",
    "halftoned.save(\"halftoned_Wenhan.png\")\n"
   ]
  }
 ],
 "metadata": {
  "kernelspec": {
   "display_name": "Python 3",
   "language": "python",
   "name": "python3"
  },
  "language_info": {
   "codemirror_mode": {
    "name": "ipython",
    "version": 3
   },
   "file_extension": ".py",
   "mimetype": "text/x-python",
   "name": "python",
   "nbconvert_exporter": "python",
   "pygments_lexer": "ipython3",
   "version": "3.10.0"
  }
 },
 "nbformat": 4,
 "nbformat_minor": 2
}
