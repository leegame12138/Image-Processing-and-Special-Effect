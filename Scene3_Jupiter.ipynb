{
 "cells": [
  {
   "cell_type": "code",
   "execution_count": 46,
   "metadata": {},
   "outputs": [
    {
     "ename": "ModuleNotFoundError",
     "evalue": "No module named 'attrs'",
     "output_type": "error",
     "traceback": [
      "\u001b[1;31m---------------------------------------------------------------------------\u001b[0m",
      "\u001b[1;31mModuleNotFoundError\u001b[0m                       Traceback (most recent call last)",
      "Cell \u001b[1;32mIn[46], line 6\u001b[0m\n\u001b[0;32m      4\u001b[0m \u001b[38;5;28;01mimport\u001b[39;00m \u001b[38;5;21;01mcv2\u001b[39;00m\n\u001b[0;32m      5\u001b[0m \u001b[38;5;28;01mimport\u001b[39;00m \u001b[38;5;21;01mnumpy\u001b[39;00m \u001b[38;5;28;01mas\u001b[39;00m \u001b[38;5;21;01mnp\u001b[39;00m\n\u001b[1;32m----> 6\u001b[0m \u001b[38;5;28;01mfrom\u001b[39;00m \u001b[38;5;21;01mrembg\u001b[39;00m \u001b[38;5;28;01mimport\u001b[39;00m remove\n\u001b[0;32m      7\u001b[0m \u001b[38;5;28;01mimport\u001b[39;00m \u001b[38;5;21;01mhalftone\u001b[39;00m\n\u001b[0;32m      8\u001b[0m \u001b[38;5;66;03m# from wand.image import Image\u001b[39;00m\n",
      "File \u001b[1;32mc:\\Users\\wc2le\\AppData\\Local\\Programs\\Python\\Python310\\lib\\site-packages\\rembg\\__init__.py:5\u001b[0m\n\u001b[0;32m      1\u001b[0m \u001b[38;5;28;01mfrom\u001b[39;00m \u001b[38;5;21;01m.\u001b[39;00m \u001b[38;5;28;01mimport\u001b[39;00m _version\n\u001b[0;32m      3\u001b[0m __version__ \u001b[38;5;241m=\u001b[39m _version\u001b[38;5;241m.\u001b[39mget_versions()[\u001b[38;5;124m\"\u001b[39m\u001b[38;5;124mversion\u001b[39m\u001b[38;5;124m\"\u001b[39m]\n\u001b[1;32m----> 5\u001b[0m \u001b[38;5;28;01mfrom\u001b[39;00m \u001b[38;5;21;01m.\u001b[39;00m\u001b[38;5;21;01mbg\u001b[39;00m \u001b[38;5;28;01mimport\u001b[39;00m remove\n\u001b[0;32m      6\u001b[0m \u001b[38;5;28;01mfrom\u001b[39;00m \u001b[38;5;21;01m.\u001b[39;00m\u001b[38;5;21;01msession_factory\u001b[39;00m \u001b[38;5;28;01mimport\u001b[39;00m new_session\n",
      "File \u001b[1;32mc:\\Users\\wc2le\\AppData\\Local\\Programs\\Python\\Python310\\lib\\site-packages\\rembg\\bg.py:21\u001b[0m\n\u001b[0;32m     18\u001b[0m \u001b[38;5;28;01mfrom\u001b[39;00m \u001b[38;5;21;01mpymatting\u001b[39;00m\u001b[38;5;21;01m.\u001b[39;00m\u001b[38;5;21;01mutil\u001b[39;00m\u001b[38;5;21;01m.\u001b[39;00m\u001b[38;5;21;01mutil\u001b[39;00m \u001b[38;5;28;01mimport\u001b[39;00m stack_images\n\u001b[0;32m     19\u001b[0m \u001b[38;5;28;01mfrom\u001b[39;00m \u001b[38;5;21;01mscipy\u001b[39;00m\u001b[38;5;21;01m.\u001b[39;00m\u001b[38;5;21;01mndimage\u001b[39;00m \u001b[38;5;28;01mimport\u001b[39;00m binary_erosion\n\u001b[1;32m---> 21\u001b[0m \u001b[38;5;28;01mfrom\u001b[39;00m \u001b[38;5;21;01m.\u001b[39;00m\u001b[38;5;21;01msession_factory\u001b[39;00m \u001b[38;5;28;01mimport\u001b[39;00m new_session\n\u001b[0;32m     22\u001b[0m \u001b[38;5;28;01mfrom\u001b[39;00m \u001b[38;5;21;01m.\u001b[39;00m\u001b[38;5;21;01msessions\u001b[39;00m \u001b[38;5;28;01mimport\u001b[39;00m sessions_class\n\u001b[0;32m     23\u001b[0m \u001b[38;5;28;01mfrom\u001b[39;00m \u001b[38;5;21;01m.\u001b[39;00m\u001b[38;5;21;01msessions\u001b[39;00m\u001b[38;5;21;01m.\u001b[39;00m\u001b[38;5;21;01mbase\u001b[39;00m \u001b[38;5;28;01mimport\u001b[39;00m BaseSession\n",
      "File \u001b[1;32mc:\\Users\\wc2le\\AppData\\Local\\Programs\\Python\\Python310\\lib\\site-packages\\rembg\\session_factory.py:6\u001b[0m\n\u001b[0;32m      2\u001b[0m \u001b[38;5;28;01mfrom\u001b[39;00m \u001b[38;5;21;01mtyping\u001b[39;00m \u001b[38;5;28;01mimport\u001b[39;00m Type\n\u001b[0;32m      4\u001b[0m \u001b[38;5;28;01mimport\u001b[39;00m \u001b[38;5;21;01monnxruntime\u001b[39;00m \u001b[38;5;28;01mas\u001b[39;00m \u001b[38;5;21;01mort\u001b[39;00m\n\u001b[1;32m----> 6\u001b[0m \u001b[38;5;28;01mfrom\u001b[39;00m \u001b[38;5;21;01m.\u001b[39;00m\u001b[38;5;21;01msessions\u001b[39;00m \u001b[38;5;28;01mimport\u001b[39;00m sessions_class\n\u001b[0;32m      7\u001b[0m \u001b[38;5;28;01mfrom\u001b[39;00m \u001b[38;5;21;01m.\u001b[39;00m\u001b[38;5;21;01msessions\u001b[39;00m\u001b[38;5;21;01m.\u001b[39;00m\u001b[38;5;21;01mbase\u001b[39;00m \u001b[38;5;28;01mimport\u001b[39;00m BaseSession\n\u001b[0;32m      8\u001b[0m \u001b[38;5;28;01mfrom\u001b[39;00m \u001b[38;5;21;01m.\u001b[39;00m\u001b[38;5;21;01msessions\u001b[39;00m\u001b[38;5;21;01m.\u001b[39;00m\u001b[38;5;21;01mu2net\u001b[39;00m \u001b[38;5;28;01mimport\u001b[39;00m U2netSession\n",
      "File \u001b[1;32mc:\\Users\\wc2le\\AppData\\Local\\Programs\\Python\\Python310\\lib\\site-packages\\rembg\\sessions\\__init__.py:20\u001b[0m\n\u001b[0;32m     17\u001b[0m sessions_class\u001b[38;5;241m.\u001b[39mappend(DisSessionGeneralUse)\n\u001b[0;32m     18\u001b[0m sessions_names\u001b[38;5;241m.\u001b[39mappend(DisSessionGeneralUse\u001b[38;5;241m.\u001b[39mname())\n\u001b[1;32m---> 20\u001b[0m \u001b[38;5;28;01mfrom\u001b[39;00m \u001b[38;5;21;01m.\u001b[39;00m\u001b[38;5;21;01msam\u001b[39;00m \u001b[38;5;28;01mimport\u001b[39;00m SamSession\n\u001b[0;32m     22\u001b[0m sessions_class\u001b[38;5;241m.\u001b[39mappend(SamSession)\n\u001b[0;32m     23\u001b[0m sessions_names\u001b[38;5;241m.\u001b[39mappend(SamSession\u001b[38;5;241m.\u001b[39mname())\n",
      "File \u001b[1;32mc:\\Users\\wc2le\\AppData\\Local\\Programs\\Python\\Python310\\lib\\site-packages\\rembg\\sessions\\sam.py:9\u001b[0m\n\u001b[0;32m      7\u001b[0m \u001b[38;5;28;01mimport\u001b[39;00m \u001b[38;5;21;01monnxruntime\u001b[39;00m \u001b[38;5;28;01mas\u001b[39;00m \u001b[38;5;21;01mort\u001b[39;00m\n\u001b[0;32m      8\u001b[0m \u001b[38;5;28;01mimport\u001b[39;00m \u001b[38;5;21;01mpooch\u001b[39;00m\n\u001b[1;32m----> 9\u001b[0m \u001b[38;5;28;01mfrom\u001b[39;00m \u001b[38;5;21;01mjsonschema\u001b[39;00m \u001b[38;5;28;01mimport\u001b[39;00m validate\n\u001b[0;32m     10\u001b[0m \u001b[38;5;28;01mfrom\u001b[39;00m \u001b[38;5;21;01mPIL\u001b[39;00m \u001b[38;5;28;01mimport\u001b[39;00m Image\n\u001b[0;32m     11\u001b[0m \u001b[38;5;28;01mfrom\u001b[39;00m \u001b[38;5;21;01mPIL\u001b[39;00m\u001b[38;5;21;01m.\u001b[39;00m\u001b[38;5;21;01mImage\u001b[39;00m \u001b[38;5;28;01mimport\u001b[39;00m Image \u001b[38;5;28;01mas\u001b[39;00m PILImage\n",
      "File \u001b[1;32mc:\\Users\\wc2le\\AppData\\Local\\Programs\\Python\\Python310\\lib\\site-packages\\jsonschema\\__init__.py:13\u001b[0m\n\u001b[0;32m      1\u001b[0m \u001b[38;5;124;03m\"\"\"\u001b[39;00m\n\u001b[0;32m      2\u001b[0m \u001b[38;5;124;03mAn implementation of JSON Schema for Python.\u001b[39;00m\n\u001b[0;32m      3\u001b[0m \n\u001b[1;32m   (...)\u001b[0m\n\u001b[0;32m      9\u001b[0m \u001b[38;5;124;03mfor you.\u001b[39;00m\n\u001b[0;32m     10\u001b[0m \u001b[38;5;124;03m\"\"\"\u001b[39;00m\n\u001b[0;32m     11\u001b[0m \u001b[38;5;28;01mimport\u001b[39;00m \u001b[38;5;21;01mwarnings\u001b[39;00m\n\u001b[1;32m---> 13\u001b[0m \u001b[38;5;28;01mfrom\u001b[39;00m \u001b[38;5;21;01mjsonschema\u001b[39;00m\u001b[38;5;21;01m.\u001b[39;00m\u001b[38;5;21;01m_format\u001b[39;00m \u001b[38;5;28;01mimport\u001b[39;00m FormatChecker\n\u001b[0;32m     14\u001b[0m \u001b[38;5;28;01mfrom\u001b[39;00m \u001b[38;5;21;01mjsonschema\u001b[39;00m\u001b[38;5;21;01m.\u001b[39;00m\u001b[38;5;21;01m_types\u001b[39;00m \u001b[38;5;28;01mimport\u001b[39;00m TypeChecker\n\u001b[0;32m     15\u001b[0m \u001b[38;5;28;01mfrom\u001b[39;00m \u001b[38;5;21;01mjsonschema\u001b[39;00m\u001b[38;5;21;01m.\u001b[39;00m\u001b[38;5;21;01mexceptions\u001b[39;00m \u001b[38;5;28;01mimport\u001b[39;00m SchemaError, ValidationError\n",
      "File \u001b[1;32mc:\\Users\\wc2le\\AppData\\Local\\Programs\\Python\\Python310\\lib\\site-packages\\jsonschema\\_format.py:11\u001b[0m\n\u001b[0;32m      8\u001b[0m \u001b[38;5;28;01mimport\u001b[39;00m \u001b[38;5;21;01mtyping\u001b[39;00m\n\u001b[0;32m      9\u001b[0m \u001b[38;5;28;01mimport\u001b[39;00m \u001b[38;5;21;01mwarnings\u001b[39;00m\n\u001b[1;32m---> 11\u001b[0m \u001b[38;5;28;01mfrom\u001b[39;00m \u001b[38;5;21;01mjsonschema\u001b[39;00m\u001b[38;5;21;01m.\u001b[39;00m\u001b[38;5;21;01mexceptions\u001b[39;00m \u001b[38;5;28;01mimport\u001b[39;00m FormatError\n\u001b[0;32m     13\u001b[0m _FormatCheckCallable \u001b[38;5;241m=\u001b[39m typing\u001b[38;5;241m.\u001b[39mCallable[[\u001b[38;5;28mobject\u001b[39m], \u001b[38;5;28mbool\u001b[39m]\n\u001b[0;32m     14\u001b[0m \u001b[38;5;66;03m#: A format checker callable.\u001b[39;00m\n",
      "File \u001b[1;32mc:\\Users\\wc2le\\AppData\\Local\\Programs\\Python\\Python310\\lib\\site-packages\\jsonschema\\exceptions.py:14\u001b[0m\n\u001b[0;32m     11\u001b[0m \u001b[38;5;28;01mimport\u001b[39;00m \u001b[38;5;21;01mitertools\u001b[39;00m\n\u001b[0;32m     12\u001b[0m \u001b[38;5;28;01mimport\u001b[39;00m \u001b[38;5;21;01mwarnings\u001b[39;00m\n\u001b[1;32m---> 14\u001b[0m \u001b[38;5;28;01mfrom\u001b[39;00m \u001b[38;5;21;01mattrs\u001b[39;00m \u001b[38;5;28;01mimport\u001b[39;00m define\n\u001b[0;32m     15\u001b[0m \u001b[38;5;28;01mfrom\u001b[39;00m \u001b[38;5;21;01mreferencing\u001b[39;00m\u001b[38;5;21;01m.\u001b[39;00m\u001b[38;5;21;01mexceptions\u001b[39;00m \u001b[38;5;28;01mimport\u001b[39;00m Unresolvable \u001b[38;5;28;01mas\u001b[39;00m _Unresolvable\n\u001b[0;32m     17\u001b[0m \u001b[38;5;28;01mfrom\u001b[39;00m \u001b[38;5;21;01mjsonschema\u001b[39;00m \u001b[38;5;28;01mimport\u001b[39;00m _utils\n",
      "\u001b[1;31mModuleNotFoundError\u001b[0m: No module named 'attrs'"
     ]
    }
   ],
   "source": [
    "from PIL import Image, ImageFilter\n",
    "import os\n",
    "from matplotlib import pyplot as plt\n",
    "import cv2\n",
    "import numpy as np\n",
    "from rembg import remove\n",
    "import halftone\n",
    "# from wand.image import Image"
   ]
  },
  {
   "cell_type": "markdown",
   "metadata": {},
   "source": [
    "研究半色调"
   ]
  },
  {
   "cell_type": "code",
   "execution_count": 44,
   "metadata": {},
   "outputs": [],
   "source": [
    "from typing import Tuple, Union, Callable\n",
    "\n",
    "import numpy as np\n",
    "import PIL.Image\n",
    "\n",
    "ImgType = Union[PIL.Image.Image, np.ndarray]\n",
    "\n",
    "\n",
    "def halftone(img: ImgType, spot_fn: Callable[[int, int], float],RGB=0) -> ImgType:\n",
    "    is_pil = isinstance(img, PIL.Image.Image)\n",
    "    if is_pil:\n",
    "        img = array_from_pil(img)\n",
    "        print(img.shape)\n",
    "    halftoned = img[:,:,RGB] > evaluate_2d_func(img.shape, spot_fn)\n",
    "    if is_pil:\n",
    "        halftoned = pil_from_array(halftoned)\n",
    "    return halftoned\n",
    "\n",
    "\n",
    "def euclid_dot(spacing: float, angle: float = 0,channel: int = 3):\n",
    "    \"\"\"Circular dot changing to square at 50% grey.\"\"\"\n",
    "    pixel_divisor = 2.0 / spacing\n",
    "\n",
    "    def fn(x: int, y: int,z : int):\n",
    "        x, y = rotate(x * pixel_divisor, y * pixel_divisor, angle)\n",
    "        # to make an ellipse multiply sin/cos\n",
    "        # arguments with different multipliers\n",
    "        return (0.5 - (0.25 * (\n",
    "                np.sin(np.pi * (x + 0.5)) +\n",
    "                np.cos(np.pi * y))))\n",
    "\n",
    "    return fn\n",
    "\n",
    "def evaluate_2d_func(img_shape, fn):\n",
    "    w, h , channel = img_shape\n",
    "    xaxis = np.arange(w)\n",
    "    yaxis = np.arange(h)\n",
    "    return fn(xaxis[:, None], yaxis[None, :],channel)\n",
    "\n",
    "\n",
    "def rotate(x: float, y: float, angle: float) -> Tuple[float, float]:\n",
    "    \"\"\"\n",
    "    Rotate coordinates (x, y) by given angle.\n",
    "\n",
    "    angle: Rotation angle in degrees\n",
    "    \"\"\"\n",
    "    angle_rad = angle / 360 * 2 * np.pi\n",
    "    sin, cos = np.sin(angle_rad), np.cos(angle_rad)\n",
    "    return x * cos - y * sin, x * sin + y * cos\n",
    "\n",
    "\n",
    "def transform_grid(spacing, angle):\n",
    "    def fn(x, y):\n",
    "        x, y = rotate(x, y, angle)\n",
    "        coords = np.array([x, y])\n",
    "        coords = coords / spacing\n",
    "        coords = coords % 1\n",
    "        return coords\n",
    "\n",
    "    return fn\n",
    "\n",
    "\n",
    "def pil_from_array(arr):\n",
    "    return PIL.Image.fromarray((arr * 255).astype('uint8'))\n",
    "\n",
    "\n",
    "def array_from_pil(img):\n",
    "    return np.array(img) / 255\n",
    "\n",
    "\n",
    "spot_functions = {\n",
    "    'euclid': euclid_dot,\n",
    "}\n"
   ]
  },
  {
   "cell_type": "code",
   "execution_count": 45,
   "metadata": {},
   "outputs": [
    {
     "name": "stdout",
     "output_type": "stream",
     "text": [
      "(2304, 3456, 3)\n"
     ]
    }
   ],
   "source": [
    "img_path= \"D:\\\\Download_In_D\\\\3D_Python\\\\Scene2\\\\Source\\\\MainStruture\\\\725-eglise-abbatiale-saint-jouin-st-jouin-de-marnes.jpg\"\n",
    "img_png_path = \"D:\\\\Download_In_D\\\\3D_Python\\\\Scene2\\\\Scene2_Completed.png\"\n",
    "\n",
    "img = Image.open(img_path)\n",
    "\n",
    "halftoned = halftone(img, euclid_dot(spacing=30, angle=10),0)\n",
    "\n",
    "halftoned.show()\n",
    "halftoned.save(\"halftoned_Wenhan.png\")\n"
   ]
  }
 ],
 "metadata": {
  "kernelspec": {
   "display_name": "Python 3",
   "language": "python",
   "name": "python3"
  },
  "language_info": {
   "codemirror_mode": {
    "name": "ipython",
    "version": 3
   },
   "file_extension": ".py",
   "mimetype": "text/x-python",
   "name": "python",
   "nbconvert_exporter": "python",
   "pygments_lexer": "ipython3",
   "version": "3.10.0"
  }
 },
 "nbformat": 4,
 "nbformat_minor": 2
}
